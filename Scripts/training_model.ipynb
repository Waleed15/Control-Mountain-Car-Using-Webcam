{
 "cells": [
  {
   "cell_type": "markdown",
   "id": "aa3dd38c-8163-4549-8dd5-8e2b479e7bb8",
   "metadata": {},
   "source": [
    "## Imports"
   ]
  },
  {
   "cell_type": "code",
   "execution_count": 1,
   "id": "3dbdedda-4944-4884-a3d6-ca764e3a1236",
   "metadata": {},
   "outputs": [],
   "source": [
    "import os\n",
    "import numpy as np\n",
    "import matplotlib.pyplot as plt\n",
    "import cv2\n",
    "from math import ceil\n",
    "import scipy\n",
    "\n",
    "import tensorflow as tf\n",
    "from tensorflow import keras\n",
    "from tensorflow.keras import applications\n",
    "from tensorflow.keras.preprocessing.image import ImageDataGenerator\n",
    "from tensorflow.keras import optimizers\n",
    "from tensorflow.keras.models import Sequential, Model\n",
    "from tensorflow.keras.layers import Dense, GlobalAveragePooling2D\n",
    "from tensorflow.keras.layers import Activation, Dropout, Flatten, Dense\n",
    "from tensorflow.keras import backend as K\n",
    "\n",
    "%matplotlib inline  "
   ]
  },
  {
   "cell_type": "markdown",
   "id": "f582fa22-db14-4b39-a3f4-a69e68572feb",
   "metadata": {},
   "source": [
    "# Defining Paths"
   ]
  },
  {
   "cell_type": "code",
   "execution_count": 2,
   "id": "7ff69273-5cd0-4915-b12a-089e78eaabae",
   "metadata": {},
   "outputs": [],
   "source": [
    "path = os.getcwd()\n",
    "img_width, img_height = 224, 224\n",
    "\n",
    "train_data_dir = os.path.join(path, r'..\\Data\\train')\n",
    "val_data_dir = os.path.join(path, r'..\\Data\\validation')\n",
    "test_data_dir = os.path.join(path, r'..\\Data\\test')\n",
    "\n",
    "batch_size = 8"
   ]
  },
  {
   "cell_type": "markdown",
   "id": "05933f4d-65a7-48b3-aac0-ecdb02605744",
   "metadata": {},
   "source": [
    "# Creating Data Generators"
   ]
  },
  {
   "cell_type": "code",
   "execution_count": 3,
   "id": "b7b4b15c-72aa-4d19-8d51-8ea4a4a5bfc3",
   "metadata": {},
   "outputs": [
    {
     "name": "stdout",
     "output_type": "stream",
     "text": [
      "Found 233 images belonging to 3 classes.\n",
      "Found 55 images belonging to 3 classes.\n",
      "Found 25 images belonging to 3 classes.\n"
     ]
    }
   ],
   "source": [
    "train_datagen = ImageDataGenerator(rescale= 1./255, validation_split=0.2, \n",
    "                                   rotation_range=20, zoom_range=0.1, \n",
    "                                   width_shift_range=0.2, height_shift_range=0.2, \n",
    "                                   shear_range=0.1, horizontal_flip=True, fill_mode=\"nearest\")\n",
    "\n",
    "val_datagen = ImageDataGenerator(rescale=1. / 255)\n",
    "test_datagen = ImageDataGenerator(rescale=1. / 255)\n",
    "\n",
    "train_generator = train_datagen.flow_from_directory(\n",
    "   train_data_dir,\n",
    "   target_size=(img_height, img_width),\n",
    "   batch_size=batch_size,\n",
    "   class_mode='categorical')\n",
    "\n",
    "val_generator = test_datagen.flow_from_directory(\n",
    "   val_data_dir,\n",
    "   target_size=(img_height, img_width),\n",
    "   batch_size=batch_size,\n",
    "   class_mode='categorical')\n",
    "\n",
    "test_generator = test_datagen.flow_from_directory(\n",
    "   test_data_dir,\n",
    "   target_size=(img_height, img_width),\n",
    "   batch_size=batch_size,\n",
    "   class_mode='categorical')"
   ]
  },
  {
   "cell_type": "markdown",
   "id": "e52cc458-c964-4eae-8b52-748fe71ba305",
   "metadata": {},
   "source": [
    "# Load and compile pretrained Models"
   ]
  },
  {
   "cell_type": "markdown",
   "id": "6c19af2d-db10-41f3-b04f-fa5c9065dcf1",
   "metadata": {},
   "source": [
    "## Learning rate scheduler"
   ]
  },
  {
   "cell_type": "code",
   "execution_count": 4,
   "id": "d027f962-478b-48ee-b8d5-03dd6fcd0928",
   "metadata": {},
   "outputs": [],
   "source": [
    "##https://towardsdatascience.com/learning-rate-schedule-in-practice-an-example-with-keras-and-tensorflow-2-0-2f48b2888a0c\n",
    "initial_learning_rate = 0.001\n",
    "epochs = 100\n",
    "decay = initial_learning_rate / epochs\n",
    "\n",
    "def lr_schedule(epoch, lr):\n",
    "    return lr * 1 / (1 + decay * epoch)"
   ]
  },
  {
   "cell_type": "code",
   "execution_count": 5,
   "id": "e5845048-764e-4a0b-9628-8e9fb5bd008f",
   "metadata": {},
   "outputs": [],
   "source": [
    "#create a Callback\n",
    "lr_callback = tf.keras.callbacks.LearningRateScheduler(lr_schedule, verbose=True)"
   ]
  },
  {
   "cell_type": "markdown",
   "id": "5f3d1222-f27a-4ddb-bf3c-87047fa8e08f",
   "metadata": {},
   "source": [
    "## ResNET-50"
   ]
  },
  {
   "cell_type": "code",
   "execution_count": 8,
   "id": "98b87538-d527-4c1d-8a97-c3c3e284463d",
   "metadata": {},
   "outputs": [],
   "source": [
    "model_res50 = applications.ResNet50(weights='imagenet', include_top=False) \n",
    "# add a global spatial average pooling layer\n",
    "x = model_res50.output\n",
    "x = GlobalAveragePooling2D()(x)\n",
    "\n",
    "# add a flatten layer\n",
    "x = Flatten()(x)\n",
    "# add a dropout layer\n",
    "x = Dropout(0.2)(x)\n",
    "\n",
    "# and a fully connected output/classification layer\n",
    "predictions = Dense(3, activation='softmax')(x)\n",
    "\n",
    "# create the full network\n",
    "model_transfer = Model(inputs=model_res50.input, outputs=predictions)"
   ]
  },
  {
   "cell_type": "code",
   "execution_count": 9,
   "id": "7e5be84d-2642-498f-8dc2-e3e74b43ed28",
   "metadata": {},
   "outputs": [],
   "source": [
    "# compile\n",
    "model_transfer.compile(loss='categorical_crossentropy',\n",
    "              optimizer=optimizers.SGD(),\n",
    "              metrics=['accuracy', tf.keras.metrics.Recall(), tf.keras.metrics.Precision()])"
   ]
  },
  {
   "cell_type": "code",
   "execution_count": null,
   "id": "ec22b375-e3e0-40f1-89d5-5b89c33acff4",
   "metadata": {},
   "outputs": [
    {
     "name": "stdout",
     "output_type": "stream",
     "text": [
      "\n",
      "Epoch 1: LearningRateScheduler setting learning rate to 0.009999999776482582.\n",
      "Epoch 1/100\n",
      "30/30 [==============================] - 63s 2s/step - loss: 1.2184 - accuracy: 0.4850 - recall: 0.4378 - precision: 0.5000 - val_loss: 1.5407 - val_accuracy: 0.3636 - val_recall: 0.3636 - val_precision: 0.3636 - lr: 0.0100\n",
      "\n",
      "Epoch 2: LearningRateScheduler setting learning rate to 0.009999899777484807.\n",
      "Epoch 2/100\n",
      "30/30 [==============================] - 59s 2s/step - loss: 0.6949 - accuracy: 0.6953 - recall: 0.6652 - precision: 0.7209 - val_loss: 1.9567 - val_accuracy: 0.3636 - val_recall: 0.3636 - val_precision: 0.3636 - lr: 0.0100\n",
      "\n",
      "Epoch 3: LearningRateScheduler setting learning rate to 0.009999700130964479.\n",
      "Epoch 3/100\n",
      "30/30 [==============================] - 61s 2s/step - loss: 0.4718 - accuracy: 0.7983 - recall: 0.7854 - precision: 0.8133 - val_loss: 1.2640 - val_accuracy: 0.3636 - val_recall: 0.3636 - val_precision: 0.3636 - lr: 0.0100\n",
      "\n",
      "Epoch 4: LearningRateScheduler setting learning rate to 0.009999399908616298.\n",
      "Epoch 4/100\n",
      "30/30 [==============================] - 62s 2s/step - loss: 0.4896 - accuracy: 0.8326 - recall: 0.8112 - precision: 0.8438 - val_loss: 1.4642 - val_accuracy: 0.3636 - val_recall: 0.3636 - val_precision: 0.3636 - lr: 0.0100\n",
      "\n",
      "Epoch 5: LearningRateScheduler setting learning rate to 0.00999900004474274.\n",
      "Epoch 5/100\n",
      "30/30 [==============================] - 63s 2s/step - loss: 0.4037 - accuracy: 0.8412 - recall: 0.8283 - precision: 0.8428 - val_loss: 1.5527 - val_accuracy: 0.3273 - val_recall: 0.3273 - val_precision: 0.3396 - lr: 0.0100\n",
      "\n",
      "Epoch 6: LearningRateScheduler setting learning rate to 0.009998500542332901.\n",
      "Epoch 6/100\n",
      "30/30 [==============================] - 65s 2s/step - loss: 0.3255 - accuracy: 0.8798 - recall: 0.8627 - precision: 0.8855 - val_loss: 1.6037 - val_accuracy: 0.3636 - val_recall: 0.3636 - val_precision: 0.3636 - lr: 0.0100\n",
      "\n",
      "Epoch 7: LearningRateScheduler setting learning rate to 0.009997900473109065.\n",
      "Epoch 7/100\n",
      "30/30 [==============================] - 72s 2s/step - loss: 0.2994 - accuracy: 0.9056 - recall: 0.9013 - precision: 0.9091 - val_loss: 13.7617 - val_accuracy: 0.3636 - val_recall: 0.3636 - val_precision: 0.3636 - lr: 0.0100\n",
      "\n",
      "Epoch 8: LearningRateScheduler setting learning rate to 0.009997200771345404.\n",
      "Epoch 8/100\n",
      "30/30 [==============================] - 91s 3s/step - loss: 0.2469 - accuracy: 0.9013 - recall: 0.8884 - precision: 0.9159 - val_loss: 2.0697 - val_accuracy: 0.3636 - val_recall: 0.3636 - val_precision: 0.3636 - lr: 0.0100\n",
      "\n",
      "Epoch 9: LearningRateScheduler setting learning rate to 0.00999640144003066.\n",
      "Epoch 9/100\n",
      "30/30 [==============================] - 78s 3s/step - loss: 0.1960 - accuracy: 0.9356 - recall: 0.9270 - precision: 0.9351 - val_loss: 1.6047 - val_accuracy: 0.3636 - val_recall: 0.3636 - val_precision: 0.3636 - lr: 0.0100\n",
      "\n",
      "Epoch 10: LearningRateScheduler setting learning rate to 0.009995501550914686.\n",
      "Epoch 10/100\n",
      "30/30 [==============================] - 74s 2s/step - loss: 0.4099 - accuracy: 0.8541 - recall: 0.8498 - precision: 0.8646 - val_loss: 1.3184 - val_accuracy: 0.3091 - val_recall: 0.3091 - val_precision: 0.3400 - lr: 0.0100\n",
      "\n",
      "Epoch 11: LearningRateScheduler setting learning rate to 0.009994502038243366.\n",
      "Epoch 11/100\n",
      "30/30 [==============================] - 70s 2s/step - loss: 0.1954 - accuracy: 0.9185 - recall: 0.9142 - precision: 0.9301 - val_loss: 1.6057 - val_accuracy: 0.3636 - val_recall: 0.3636 - val_precision: 0.3704 - lr: 0.0100\n",
      "\n",
      "Epoch 12: LearningRateScheduler setting learning rate to 0.009993402905005076.\n",
      "Epoch 12/100\n",
      "30/30 [==============================] - 73s 2s/step - loss: 0.1126 - accuracy: 0.9614 - recall: 0.9571 - precision: 0.9612 - val_loss: 1.4048 - val_accuracy: 0.3636 - val_recall: 0.3091 - val_precision: 0.3469 - lr: 0.0100\n",
      "\n",
      "Epoch 13: LearningRateScheduler setting learning rate to 0.009992204154188078.\n",
      "Epoch 13/100\n",
      "30/30 [==============================] - 72s 2s/step - loss: 0.3556 - accuracy: 0.9056 - recall: 0.9056 - precision: 0.9056 - val_loss: 1.4299 - val_accuracy: 0.3818 - val_recall: 0.3636 - val_precision: 0.3922 - lr: 0.0100\n",
      "\n",
      "Epoch 14: LearningRateScheduler setting learning rate to 0.00999090578878051.\n",
      "Epoch 14/100\n",
      "30/30 [==============================] - 73s 2s/step - loss: 0.1746 - accuracy: 0.9528 - recall: 0.9528 - precision: 0.9528 - val_loss: 1.1821 - val_accuracy: 0.4727 - val_recall: 0.3818 - val_precision: 0.5000 - lr: 0.0100\n",
      "\n",
      "Epoch 15: LearningRateScheduler setting learning rate to 0.00998950688057818.\n",
      "Epoch 15/100\n",
      "30/30 [==============================] - 73s 2s/step - loss: 0.1004 - accuracy: 0.9700 - recall: 0.9700 - precision: 0.9741 - val_loss: 1.2670 - val_accuracy: 0.3636 - val_recall: 0.3636 - val_precision: 0.3636 - lr: 0.0100\n",
      "\n",
      "Epoch 16: LearningRateScheduler setting learning rate to 0.009988008363779822.\n",
      "Epoch 16/100\n",
      "30/30 [==============================] - 72s 2s/step - loss: 0.0838 - accuracy: 0.9700 - recall: 0.9700 - precision: 0.9700 - val_loss: 1.1317 - val_accuracy: 0.4182 - val_recall: 0.3273 - val_precision: 0.4615 - lr: 0.0100\n",
      "\n",
      "Epoch 17: LearningRateScheduler setting learning rate to 0.009986410241373214.\n",
      "Epoch 17/100\n",
      "30/30 [==============================] - 72s 2s/step - loss: 0.1512 - accuracy: 0.9442 - recall: 0.9442 - precision: 0.9483 - val_loss: 1.0863 - val_accuracy: 0.4545 - val_recall: 0.2000 - val_precision: 0.4231 - lr: 0.0100\n",
      "\n",
      "Epoch 18: LearningRateScheduler setting learning rate to 0.009984712516346014.\n",
      "Epoch 18/100\n",
      "30/30 [==============================] - 70s 2s/step - loss: 0.1853 - accuracy: 0.9356 - recall: 0.9356 - precision: 0.9356 - val_loss: 1.0668 - val_accuracy: 0.3818 - val_recall: 0.3091 - val_precision: 0.4250 - lr: 0.0100\n",
      "\n",
      "Epoch 19: LearningRateScheduler setting learning rate to 0.009982915191685765.\n",
      "Epoch 19/100\n",
      "30/30 [==============================] - 70s 2s/step - loss: 0.1697 - accuracy: 0.9399 - recall: 0.9356 - precision: 0.9437 - val_loss: 1.0209 - val_accuracy: 0.4364 - val_recall: 0.3091 - val_precision: 0.4359 - lr: 0.0100\n",
      "\n",
      "Epoch 20: LearningRateScheduler setting learning rate to 0.009981019201525547.\n",
      "Epoch 20/100\n",
      "30/30 [==============================] - 70s 2s/step - loss: 0.1371 - accuracy: 0.9657 - recall: 0.9614 - precision: 0.9655 - val_loss: 0.9523 - val_accuracy: 0.4545 - val_recall: 0.3455 - val_precision: 0.5588 - lr: 0.0100\n",
      "\n",
      "Epoch 21: LearningRateScheduler setting learning rate to 0.009979023617688381.\n",
      "Epoch 21/100\n",
      "30/30 [==============================] - 71s 2s/step - loss: 0.1353 - accuracy: 0.9528 - recall: 0.9442 - precision: 0.9565 - val_loss: 1.2783 - val_accuracy: 0.6364 - val_recall: 0.6182 - val_precision: 0.6667 - lr: 0.0100\n",
      "\n",
      "Epoch 22: LearningRateScheduler setting learning rate to 0.009976928443161453.\n",
      "Epoch 22/100\n",
      "30/30 [==============================] - 69s 2s/step - loss: 0.2318 - accuracy: 0.9399 - recall: 0.9313 - precision: 0.9476 - val_loss: 1.0554 - val_accuracy: 0.6545 - val_recall: 0.5455 - val_precision: 0.6383 - lr: 0.0100\n",
      "\n",
      "Epoch 23: LearningRateScheduler setting learning rate to 0.009974733680931826.\n",
      "Epoch 23/100\n",
      "30/30 [==============================] - 80s 3s/step - loss: 0.1466 - accuracy: 0.9614 - recall: 0.9571 - precision: 0.9612 - val_loss: 1.0169 - val_accuracy: 0.5818 - val_recall: 0.5273 - val_precision: 0.6170 - lr: 0.0100\n",
      "\n",
      "Epoch 24: LearningRateScheduler setting learning rate to 0.009972440265094867.\n",
      "Epoch 24/100\n",
      "30/30 [==============================] - 74s 3s/step - loss: 0.0663 - accuracy: 0.9742 - recall: 0.9742 - precision: 0.9742 - val_loss: 1.1480 - val_accuracy: 0.5818 - val_recall: 0.5273 - val_precision: 0.5918 - lr: 0.0100\n",
      "\n",
      "Epoch 25: LearningRateScheduler setting learning rate to 0.009970047267510359.\n",
      "Epoch 25/100\n",
      "30/30 [==============================] - 73s 2s/step - loss: 0.0956 - accuracy: 0.9614 - recall: 0.9614 - precision: 0.9697 - val_loss: 1.4027 - val_accuracy: 0.5091 - val_recall: 0.4909 - val_precision: 0.5000 - lr: 0.0100\n",
      "\n",
      "Epoch 26: LearningRateScheduler setting learning rate to 0.00996755562225481.\n",
      "Epoch 26/100\n",
      "30/30 [==============================] - 70s 2s/step - loss: 0.1041 - accuracy: 0.9614 - recall: 0.9614 - precision: 0.9655 - val_loss: 0.5759 - val_accuracy: 0.6909 - val_recall: 0.6364 - val_precision: 0.7000 - lr: 0.0100\n",
      "\n",
      "Epoch 27: LearningRateScheduler setting learning rate to 0.009964964401206389.\n",
      "Epoch 27/100\n",
      "30/30 [==============================] - 70s 2s/step - loss: 0.1298 - accuracy: 0.9528 - recall: 0.9485 - precision: 0.9526 - val_loss: 0.4772 - val_accuracy: 0.8182 - val_recall: 0.7636 - val_precision: 0.8235 - lr: 0.0100\n",
      "\n",
      "Epoch 28: LearningRateScheduler setting learning rate to 0.009962274538422747.\n",
      "Epoch 28/100\n",
      "30/30 [==============================] - 70s 2s/step - loss: 0.1244 - accuracy: 0.9614 - recall: 0.9571 - precision: 0.9612 - val_loss: 0.7079 - val_accuracy: 0.7455 - val_recall: 0.7455 - val_precision: 0.7885 - lr: 0.0100\n",
      "\n",
      "Epoch 29: LearningRateScheduler setting learning rate to 0.00995948603686231.\n",
      "Epoch 29/100\n",
      "30/30 [==============================] - 70s 2s/step - loss: 0.0825 - accuracy: 0.9657 - recall: 0.9571 - precision: 0.9696 - val_loss: 0.4702 - val_accuracy: 0.7636 - val_recall: 0.7273 - val_precision: 0.7843 - lr: 0.0100\n",
      "\n",
      "Epoch 30: LearningRateScheduler setting learning rate to 0.009956598899483384.\n",
      "Epoch 30/100\n",
      "30/30 [==============================] - 70s 2s/step - loss: 0.0935 - accuracy: 0.9742 - recall: 0.9742 - precision: 0.9742 - val_loss: 1.0387 - val_accuracy: 0.6182 - val_recall: 0.6182 - val_precision: 0.6415 - lr: 0.0100\n",
      "\n",
      "Epoch 31: LearningRateScheduler setting learning rate to 0.009953613129244154.\n",
      "Epoch 31/100\n",
      "30/30 [==============================] - 70s 2s/step - loss: 0.0711 - accuracy: 0.9785 - recall: 0.9785 - precision: 0.9785 - val_loss: 0.9213 - val_accuracy: 0.6545 - val_recall: 0.6364 - val_precision: 0.6604 - lr: 0.0100\n",
      "\n",
      "Epoch 32: LearningRateScheduler setting learning rate to 0.009950528729102686.\n",
      "Epoch 32/100\n",
      "30/30 [==============================] - 70s 2s/step - loss: 0.0853 - accuracy: 0.9614 - recall: 0.9614 - precision: 0.9614 - val_loss: 0.4796 - val_accuracy: 0.8182 - val_recall: 0.8000 - val_precision: 0.8302 - lr: 0.0100\n",
      "\n",
      "Epoch 33: LearningRateScheduler setting learning rate to 0.009947345702016936.\n",
      "Epoch 33/100\n",
      "30/30 [==============================] - 70s 2s/step - loss: 0.0903 - accuracy: 0.9785 - recall: 0.9742 - precision: 0.9784 - val_loss: 0.3601 - val_accuracy: 0.8727 - val_recall: 0.8727 - val_precision: 0.8727 - lr: 0.0099\n",
      "\n",
      "Epoch 34: LearningRateScheduler setting learning rate to 0.009944064050944735.\n",
      "Epoch 34/100\n",
      "30/30 [==============================] - 70s 2s/step - loss: 0.0945 - accuracy: 0.9657 - recall: 0.9657 - precision: 0.9698 - val_loss: 0.3968 - val_accuracy: 0.8364 - val_recall: 0.8364 - val_precision: 0.8364 - lr: 0.0099\n",
      "\n",
      "Epoch 35: LearningRateScheduler setting learning rate to 0.009940683778843796.\n",
      "Epoch 35/100\n",
      "30/30 [==============================] - 70s 2s/step - loss: 0.0387 - accuracy: 0.9871 - recall: 0.9871 - precision: 0.9871 - val_loss: 0.2311 - val_accuracy: 0.9455 - val_recall: 0.9091 - val_precision: 0.9615 - lr: 0.0099\n",
      "\n",
      "Epoch 36: LearningRateScheduler setting learning rate to 0.009937205819668438.\n",
      "Epoch 36/100\n",
      "30/30 [==============================] - 70s 2s/step - loss: 0.1146 - accuracy: 0.9657 - recall: 0.9657 - precision: 0.9657 - val_loss: 0.3355 - val_accuracy: 0.8909 - val_recall: 0.8909 - val_precision: 0.9245 - lr: 0.0099\n",
      "\n",
      "Epoch 37: LearningRateScheduler setting learning rate to 0.009933630176348223.\n",
      "Epoch 37/100\n",
      "30/30 [==============================] - 70s 2s/step - loss: 0.1401 - accuracy: 0.9571 - recall: 0.9528 - precision: 0.9569 - val_loss: 0.6780 - val_accuracy: 0.7091 - val_recall: 0.7091 - val_precision: 0.7091 - lr: 0.0099\n",
      "\n",
      "Epoch 38: LearningRateScheduler setting learning rate to 0.009929955920834475.\n",
      "Epoch 38/100\n",
      "30/30 [==============================] - 70s 2s/step - loss: 0.0975 - accuracy: 0.9700 - recall: 0.9700 - precision: 0.9741 - val_loss: 0.3039 - val_accuracy: 0.8727 - val_recall: 0.8727 - val_precision: 0.8727 - lr: 0.0099\n",
      "\n",
      "Epoch 39: LearningRateScheduler setting learning rate to 0.009926183987053246.\n",
      "Epoch 39/100\n",
      "15/30 [==============>...............] - ETA: 31s - loss: 0.0635 - accuracy: 0.9646 - recall: 0.9646 - precision: 0.9646"
     ]
    }
   ],
   "source": [
    "history_pretrained = model_transfer.fit(train_generator, epochs=epochs, shuffle = True, verbose = 1, validation_data = val_generator, callbacks=[lr_callback])"
   ]
  },
  {
   "cell_type": "code",
   "execution_count": null,
   "id": "6e9f4aa3-3fad-4a15-8c29-a512d58ee754",
   "metadata": {},
   "outputs": [],
   "source": [
    "# summarize history for accuracy\n",
    "plt.plot(history_pretrained.history['val_accuracy'], \"-b\", label=\"validation_acc\")\n",
    "plt.plot(history_pretrained.history['accuracy'], \"-r\", label=\"train_acc\")\n",
    "plt.title('Resnet-50 Accuracy')\n",
    "plt.ylabel('Accuracy')\n",
    "plt.xlabel('Epoch')\n",
    "plt.legend(loc=\"lower right\")\n",
    "plt.show()\n",
    "\n",
    "# summarize history for loss\n",
    "plt.plot(history_pretrained.history['val_loss'], \"-b\", label=\"validation_loss\")\n",
    "plt.plot(history_pretrained.history['loss'], \"-r\", label=\"train_loss\")\n",
    "plt.title('Resnet-50 Loss')\n",
    "plt.ylabel('Loss')\n",
    "plt.xlabel('Epoch')\n",
    "plt.legend(loc=\"lower right\")\n",
    "plt.show()\n",
    "\n",
    "# summarize history for precision\n",
    "plt.plot(history_pretrained.history['val_precision'])\n",
    "plt.title('Model Precision')\n",
    "plt.ylabel('Precision')\n",
    "plt.xlabel('Epoch')\n",
    "plt.show()\n",
    "\n",
    "# summarize history for recall\n",
    "plt.plot(history_pretrained.history['val_recall'])\n",
    "plt.title('Model Recall')\n",
    "plt.ylabel('Recall')\n",
    "plt.xlabel('Epoch')\n",
    "plt.show()"
   ]
  },
  {
   "cell_type": "code",
   "execution_count": null,
   "id": "3749e5c2-8ef6-4037-9cc6-29426437d23a",
   "metadata": {},
   "outputs": [],
   "source": [
    "model_transfer.evaluate(test_generator)"
   ]
  },
  {
   "cell_type": "markdown",
   "id": "08c05a11-ec48-4957-9d1b-35ab04e0b2d3",
   "metadata": {},
   "source": [
    "## VGG-16"
   ]
  },
  {
   "cell_type": "code",
   "execution_count": null,
   "id": "ab37a914-3839-400f-a4d7-a4cbc864b385",
   "metadata": {},
   "outputs": [],
   "source": [
    "model_vgg16 = applications.VGG16(weights='imagenet', include_top=False)\n",
    "# add a global spatial average pooling layer\n",
    "x = model_vgg16.output\n",
    "x = GlobalAveragePooling2D()(x)\n",
    "\n",
    "# add a flatten layer\n",
    "x = Flatten()(x)\n",
    "# add a dropout layer\n",
    "x = Dropout(0.2)(x)\n",
    "\n",
    "# and a fully connected output/classification layer\n",
    "predictions = Dense(3, activation='softmax')(x)\n",
    "\n",
    "# create the full network\n",
    "model_transfer_vgg = Model(inputs=model_vgg16.input, outputs=predictions)"
   ]
  },
  {
   "cell_type": "code",
   "execution_count": null,
   "id": "22e61ee2-7816-4632-968f-7a24f52ef533",
   "metadata": {},
   "outputs": [],
   "source": [
    "# compile\n",
    "model_transfer_vgg.compile(loss='categorical_crossentropy',\n",
    "              optimizer=optimizers.SGD(),\n",
    "              metrics=['accuracy', tf.keras.metrics.Recall(), tf.keras.metrics.Precision()])"
   ]
  },
  {
   "cell_type": "code",
   "execution_count": null,
   "id": "dae21186-b128-4513-9fd3-1e0fdbac5f6c",
   "metadata": {},
   "outputs": [],
   "source": [
    "history_pretrained_vgg = model_transfer_vgg.fit(train_generator, epochs=epochs, shuffle = True, verbose = 1, validation_data = val_generator, , callbacks=[lr_callback])"
   ]
  },
  {
   "cell_type": "code",
   "execution_count": null,
   "id": "417849de-6f75-4634-91b8-d7b1e6779923",
   "metadata": {},
   "outputs": [],
   "source": [
    "# summarize history for accuracy\n",
    "plt.plot(history_pretrained_vgg.history['val_accuracy'], \"-b\", label=\"validation_acc\")\n",
    "plt.plot(history_pretrained_vgg.history['accuracy'], \"-r\", label=\"train_acc\")\n",
    "plt.title('VGG-16 Accuracy')\n",
    "plt.ylabel('Accuracy')\n",
    "plt.xlabel('Epoch')\n",
    "plt.legend(loc=\"lower right\")\n",
    "plt.show()\n",
    "\n",
    "# summarize history for loss\n",
    "plt.plot(history_pretrained_vgg.history['val_loss'], \"-b\", label=\"validation_loss\")\n",
    "plt.plot(history_pretrained_vgg.history['loss'], \"-r\", label=\"train_loss\")\n",
    "plt.title('VGG-16 Loss')\n",
    "plt.ylabel('Loss')\n",
    "plt.xlabel('Epoch')\n",
    "plt.legend(loc=\"lower right\")\n",
    "plt.show()\n",
    "\n",
    "# summarize history for precision\n",
    "plt.plot(history_pretrained_vgg.history['val_precision_1'])\n",
    "plt.title('Model Precision')\n",
    "plt.ylabel('Precision')\n",
    "plt.xlabel('Epoch')\n",
    "plt.show()\n",
    "\n",
    "# summarize history for recall\n",
    "plt.plot(history_pretrained_vgg.history['val_recall_1'])\n",
    "plt.title('Model Recall')\n",
    "plt.ylabel('Recall')\n",
    "plt.xlabel('Epoch')\n",
    "plt.show()"
   ]
  },
  {
   "cell_type": "code",
   "execution_count": null,
   "id": "0bcf316f-7bd5-4f6e-9133-32df24fa910f",
   "metadata": {},
   "outputs": [],
   "source": [
    "model_transfer_vgg.evaluate(test_generator)"
   ]
  },
  {
   "cell_type": "markdown",
   "id": "8f8a92bd-7594-4978-aa9e-0d09194a0955",
   "metadata": {},
   "source": [
    "# Saving Model"
   ]
  },
  {
   "cell_type": "code",
   "execution_count": null,
   "id": "d3ae45ea-e746-426f-9a78-e326ec06c04a",
   "metadata": {},
   "outputs": [],
   "source": [
    "model_path = './../Trained_Model/model_resnet.h5'\n",
    "model_transfer.save(model_path)"
   ]
  },
  {
   "cell_type": "code",
   "execution_count": null,
   "id": "b860d3b7-b5bb-44ba-b8e7-31c3042e2b5c",
   "metadata": {},
   "outputs": [],
   "source": [
    "model_path_vgg = './../Trained_Model/model_vgg.h5'\n",
    "model_transfer_vgg.save(model_path_vgg)"
   ]
  },
  {
   "cell_type": "code",
   "execution_count": null,
   "id": "c92cd964-45d7-4e41-a00c-1a706e2b5239",
   "metadata": {},
   "outputs": [],
   "source": []
  }
 ],
 "metadata": {
  "kernelspec": {
   "display_name": "Python 3 (ipykernel)",
   "language": "python",
   "name": "python3"
  },
  "language_info": {
   "codemirror_mode": {
    "name": "ipython",
    "version": 3
   },
   "file_extension": ".py",
   "mimetype": "text/x-python",
   "name": "python",
   "nbconvert_exporter": "python",
   "pygments_lexer": "ipython3",
   "version": "3.10.8"
  }
 },
 "nbformat": 4,
 "nbformat_minor": 5
}
